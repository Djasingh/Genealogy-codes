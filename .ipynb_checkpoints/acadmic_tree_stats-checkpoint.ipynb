{
 "cells": [
  {
   "cell_type": "code",
   "execution_count": 1,
   "metadata": {},
   "outputs": [],
   "source": [
    "import pandas as pd\n",
    "import matplotlib.pyplot as plt\n",
    "import numpy as np\n",
    "import collections"
   ]
  },
  {
   "cell_type": "code",
   "execution_count": 82,
   "metadata": {},
   "outputs": [
    {
     "name": "stderr",
     "output_type": "stream",
     "text": [
      "/home/dj/webScrapper/env/lib/python3.6/site-packages/IPython/core/interactiveshell.py:3058: DtypeWarning: Columns (6) have mixed types. Specify dtype option on import or set low_memory=False.\n",
      "  interactivity=interactivity, compiler=compiler, result=result)\n",
      "/home/dj/webScrapper/env/lib/python3.6/site-packages/IPython/core/interactiveshell.py:3058: DtypeWarning: Columns (5) have mixed types. Specify dtype option on import or set low_memory=False.\n",
      "  interactivity=interactivity, compiler=compiler, result=result)\n"
     ]
    }
   ],
   "source": [
    "people=pd.read_csv('./neurotree/people.tsv', sep='\\t', encoding='utf-8',  escapechar='\\\\')\n",
    "connect=pd.read_csv('./neurotree/connect.tsv', sep='\\t', encoding='latin-1',  escapechar='\\\\')"
   ]
  },
  {
   "cell_type": "code",
   "execution_count": 3,
   "metadata": {},
   "outputs": [
    {
     "data": {
      "text/plain": [
       "(697713, 14)"
      ]
     },
     "execution_count": 3,
     "metadata": {},
     "output_type": "execute_result"
    }
   ],
   "source": [
    "people.shape"
   ]
  },
  {
   "cell_type": "code",
   "execution_count": 5,
   "metadata": {},
   "outputs": [
    {
     "data": {
      "text/plain": [
       "Index(['pid', 'firstname', 'middlename', 'lastname', 'degrees', 'location',\n",
       "       'locid', 'area', 'majorarea', 'award', 'orcid_id', 'homepage',\n",
       "       'addedby', 'dateadded'],\n",
       "      dtype='object')"
      ]
     },
     "execution_count": 5,
     "metadata": {},
     "output_type": "execute_result"
    }
   ],
   "source": [
    "people.columns"
   ]
  },
  {
   "cell_type": "code",
   "execution_count": 83,
   "metadata": {},
   "outputs": [],
   "source": [
    "sub_list=['Computer Science','Neuroscience','Mathematics','Physiology','Robotics','Chemistry',\n",
    "          'Physics','Linguistics','Meteorology','Astronomy']\n",
    "res=[]"
   ]
  },
  {
   "cell_type": "code",
   "execution_count": 84,
   "metadata": {},
   "outputs": [],
   "source": [
    "people_cs=people[people['majorarea'].str.contains('computerscience')]\n",
    "people_neuro=people[people['majorarea'].str.contains('neuro')]\n",
    "people_maths=people[people['majorarea'].str.contains('math')]\n",
    "people_physiology=people[people['majorarea'].str.contains('physiology')]\n",
    "people_robotics=people[people['majorarea'].str.contains('robotics')]\n",
    "people_chem=people[people['majorarea'].str.contains('chemistry')]\n",
    "people_physics=people[people['majorarea'].str.contains('physics')]\n",
    "people_linguistic=people[people['majorarea'].str.contains('ling')]\n",
    "people_meteorology=people[people['majorarea'].str.contains('meteorology')]\n",
    "people_astronomy=people[people['majorarea'].str.contains('astronomy')]"
   ]
  },
  {
   "cell_type": "code",
   "execution_count": 15,
   "metadata": {},
   "outputs": [],
   "source": [
    "res.append(len(people_cs))\n",
    "res.append(len(people_neuro))\n",
    "res.append(len(people_maths))\n",
    "res.append(len(people_physiology))\n",
    "res.append(len(people_robotics))\n",
    "res.append(len(people_chem))\n",
    "res.append(len(people_physics))\n",
    "res.append(len(people_linguistic))\n",
    "res.append(len(people_meteorology))\n",
    "res.append(len(people_astronomy))"
   ]
  },
  {
   "cell_type": "code",
   "execution_count": 12,
   "metadata": {},
   "outputs": [
    {
     "data": {
      "text/plain": [
       "21313"
      ]
     },
     "execution_count": 12,
     "metadata": {},
     "output_type": "execute_result"
    }
   ],
   "source": [
    "len(people_cs)"
   ]
  },
  {
   "cell_type": "code",
   "execution_count": 10,
   "metadata": {},
   "outputs": [],
   "source": []
  },
  {
   "cell_type": "code",
   "execution_count": 29,
   "metadata": {},
   "outputs": [
    {
     "data": {
      "image/png": "[encoded data removed]",
      "text/plain": [
       "<Figure size 432x288 with 1 Axes>"
      ]
     },
     "metadata": {
      "needs_background": "light"
     },
     "output_type": "display_data"
    }
   ],
   "source": [
    "index = np.arange(len(sub_list))\n",
    "plt.bar(index, reser)\n",
    "plt.xlabel('Academic Tree Disciplines', fontsize=10)\n",
    "plt.ylabel('No of Researchers', fontsize=10)\n",
    "plt.xticks(index, sub_list, fontsize=10, rotation=90)\n",
    "plt.title('Researcher distribution across different disciplines')\n",
    "plt.gcf().subplots_adjust(bottom=0.15)\n",
    "plt.savefig('domains.png',bbox_inches='tight')\n",
    "plt.show()"
   ]
  },
  {
   "cell_type": "code",
   "execution_count": 58,
   "metadata": {},
   "outputs": [],
   "source": []
  },
  {
   "cell_type": "code",
   "execution_count": 2,
   "metadata": {},
   "outputs": [],
   "source": [
    "people_cs_int=pd.read_csv('./neurotree/people_cs.tsv', sep='\\t', encoding='utf-8',  escapechar='\\\\')\n",
    "connect_cs=pd.read_csv('./neurotree/connect_cs.tsv', sep='\\t', encoding='latin-1',  escapechar='\\\\')\n",
    "inst=pd.read_csv('./neurotree/location.tsv', sep='\\t', encoding='latin-1',  escapechar='\\\\')"
   ]
  },
  {
   "cell_type": "code",
   "execution_count": 120,
   "metadata": {},
   "outputs": [],
   "source": [
    "def attr_statistics(tab):\n",
    "    total_attr=[]\n",
    "    for row in tab.values:\n",
    "        attr=0\n",
    "        for col in row:\n",
    "            if str(col)=='nan' or str(col)=='N':\n",
    "                continue\n",
    "            else:\n",
    "                attr+=1\n",
    "        total_attr.append(attr)\n",
    "    return total_attr"
   ]
  },
  {
   "cell_type": "code",
   "execution_count": 121,
   "metadata": {},
   "outputs": [
    {
     "data": {
      "text/plain": [
       "28704"
      ]
     },
     "execution_count": 121,
     "metadata": {},
     "output_type": "execute_result"
    }
   ],
   "source": [
    "total_attr = attr_statistics(inst)\n",
    "len(total_attr)"
   ]
  },
  {
   "cell_type": "code",
   "execution_count": 122,
   "metadata": {},
   "outputs": [
    {
     "data": {
      "text/plain": [
       "(28704, 12)"
      ]
     },
     "execution_count": 122,
     "metadata": {},
     "output_type": "execute_result"
    }
   ],
   "source": [
    "inst.shape"
   ]
  },
  {
   "cell_type": "code",
   "execution_count": 123,
   "metadata": {},
   "outputs": [
    {
     "name": "stdout",
     "output_type": "stream",
     "text": [
      "11\n",
      "3\n",
      "6.436803232998885\n"
     ]
    }
   ],
   "source": [
    "max_attr=max(total_attr)\n",
    "print(max_attr)\n",
    "min_attr=min(total_attr)\n",
    "print(min_attr)\n",
    "avg_attr=sum(total_attr)/len(total_attr)\n",
    "print(avg_attr)"
   ]
  },
  {
   "cell_type": "code",
   "execution_count": 80,
   "metadata": {},
   "outputs": [
    {
     "data": {
      "text/plain": [
       "12.30235067798996"
      ]
     },
     "execution_count": 80,
     "metadata": {},
     "output_type": "execute_result"
    }
   ],
   "source": [
    "avg_attr"
   ]
  },
  {
   "cell_type": "code",
   "execution_count": 99,
   "metadata": {},
   "outputs": [
    {
     "data": {
      "text/plain": [
       "array([179132, 'Srinivasan', nan, 'Parthasarathy', 'Ph.D.',\n",
       "       'University of Maryland, College Park', 398,\n",
       "       'Theoretical Computer Science,Bioinformatics and Computational Biology',\n",
       "       'computerscience', 'N', 'N', nan, 'pq', '2016-01-07 23:52:45'],\n",
       "      dtype=object)"
      ]
     },
     "execution_count": 99,
     "metadata": {},
     "output_type": "execute_result"
    }
   ],
   "source": [
    "people_cs_int.values[1000]"
   ]
  },
  {
   "cell_type": "code",
   "execution_count": 125,
   "metadata": {},
   "outputs": [
    {
     "data": {
      "text/plain": [
       "(22081, 14)"
      ]
     },
     "execution_count": 125,
     "metadata": {},
     "output_type": "execute_result"
    }
   ],
   "source": [
    "people_cs_int.shape"
   ]
  },
  {
   "cell_type": "code",
   "execution_count": 11,
   "metadata": {},
   "outputs": [
    {
     "data": {
      "text/plain": [
       "array([318, 'University of California, San Francisco', 'UCSF',\n",
       "       'San Francisco', 'CA', nan, 0, '-122.45747', '37.762982', nan, 'N',\n",
       "       0], dtype=object)"
      ]
     },
     "execution_count": 11,
     "metadata": {},
     "output_type": "execute_result"
    }
   ],
   "source": [
    "inst.values[317]"
   ]
  },
  {
   "cell_type": "code",
   "execution_count": 154,
   "metadata": {},
   "outputs": [
    {
     "data": {
      "text/plain": [
       "(27181, 11)"
      ]
     },
     "execution_count": 154,
     "metadata": {},
     "output_type": "execute_result"
    }
   ],
   "source": [
    "connect_cs[connect_cs['department'].astype(str)=='nan'].shape"
   ]
  },
  {
   "cell_type": "code",
   "execution_count": 157,
   "metadata": {},
   "outputs": [
    {
     "data": {
      "text/plain": [
       "27181"
      ]
     },
     "execution_count": 157,
     "metadata": {},
     "output_type": "execute_result"
    }
   ],
   "source": [
    "len([x for x in connect_cs['department'].values if str(x) == 'nan'])"
   ]
  },
  {
   "cell_type": "code",
   "execution_count": 3,
   "metadata": {},
   "outputs": [],
   "source": [
    "import networkx as nx"
   ]
  },
  {
   "cell_type": "code",
   "execution_count": 4,
   "metadata": {},
   "outputs": [],
   "source": [
    "G=nx.from_pandas_edgelist(connect_cs, 'pid1', 'pid2',create_using=nx.DiGraph())"
   ]
  },
  {
   "cell_type": "code",
   "execution_count": 5,
   "metadata": {},
   "outputs": [
    {
     "data": {
      "image/png": "[encoded data removed]",
      "text/plain": [
       "<Figure size 432x288 with 1 Axes>"
      ]
     },
     "metadata": {
      "needs_background": "light"
     },
     "output_type": "display_data"
    }
   ],
   "source": [
    "degree_sequence = sorted([d for n, d in G.degree()], reverse=True)  # degree sequence\n",
    "# print \"Degree sequence\", degree_sequence\n",
    "degreeCount = collections.Counter(degree_sequence)\n",
    "deg, cnt = zip(*degreeCount.items())\n",
    "\n",
    "fig, ax = plt.subplots()\n",
    "plt.bar(deg, cnt, color='b')\n",
    "\n",
    "plt.title(\"Degree Histogram\")\n",
    "plt.ylabel(\"Count\")\n",
    "plt.xlabel(\"Degree\")\n",
    "plt.ylim((0,2000))\n",
    "plt.xlim(0,50)\n",
    "plt.show()"
   ]
  },
  {
   "cell_type": "code",
   "execution_count": 64,
   "metadata": {},
   "outputs": [
    {
     "data": {
      "text/plain": [
       "21311"
      ]
     },
     "execution_count": 64,
     "metadata": {},
     "output_type": "execute_result"
    }
   ],
   "source": [
    "G.degree()[0]"
   ]
  },
  {
   "cell_type": "code",
   "execution_count": null,
   "metadata": {},
   "outputs": [],
   "source": []
  },
  {
   "cell_type": "code",
   "execution_count": 63,
   "metadata": {},
   "outputs": [
    {
     "data": {
      "text/plain": [
       "21443"
      ]
     },
     "execution_count": 63,
     "metadata": {},
     "output_type": "execute_result"
    }
   ],
   "source": [
    "len(connect_cs[connect_cs['pid2']==0])"
   ]
  },
  {
   "cell_type": "code",
   "execution_count": 159,
   "metadata": {},
   "outputs": [
    {
     "data": {
      "text/html": [
       "<div>\n",
       "<style scoped>\n",
       "    .dataframe tbody tr th:only-of-type {\n",
       "        vertical-align: middle;\n",
       "    }\n",
       "\n",
       "    .dataframe tbody tr th {\n",
       "        vertical-align: top;\n",
       "    }\n",
       "\n",
       "    .dataframe thead th {\n",
       "        text-align: right;\n",
       "    }\n",
       "</style>\n",
       "<table border=\"1\" class=\"dataframe\">\n",
       "  <thead>\n",
       "    <tr style=\"text-align: right;\">\n",
       "      <th></th>\n",
       "      <th>cid</th>\n",
       "      <th>pid1</th>\n",
       "      <th>pid2</th>\n",
       "      <th>relation</th>\n",
       "      <th>locid</th>\n",
       "    </tr>\n",
       "  </thead>\n",
       "  <tbody>\n",
       "    <tr>\n",
       "      <th>count</th>\n",
       "      <td>3.829600e+04</td>\n",
       "      <td>38296.000000</td>\n",
       "      <td>38296.000000</td>\n",
       "      <td>38296.000000</td>\n",
       "      <td>38296.000000</td>\n",
       "    </tr>\n",
       "    <tr>\n",
       "      <th>mean</th>\n",
       "      <td>8.506714e+05</td>\n",
       "      <td>427137.056037</td>\n",
       "      <td>179249.370013</td>\n",
       "      <td>0.447279</td>\n",
       "      <td>3910.718874</td>\n",
       "    </tr>\n",
       "    <tr>\n",
       "      <th>std</th>\n",
       "      <td>2.290542e+05</td>\n",
       "      <td>122472.789775</td>\n",
       "      <td>219463.483225</td>\n",
       "      <td>0.524066</td>\n",
       "      <td>6898.311357</td>\n",
       "    </tr>\n",
       "    <tr>\n",
       "      <th>min</th>\n",
       "      <td>2.680000e+02</td>\n",
       "      <td>84.000000</td>\n",
       "      <td>0.000000</td>\n",
       "      <td>0.000000</td>\n",
       "      <td>1.000000</td>\n",
       "    </tr>\n",
       "    <tr>\n",
       "      <th>25%</th>\n",
       "      <td>8.281048e+05</td>\n",
       "      <td>419577.750000</td>\n",
       "      <td>0.000000</td>\n",
       "      <td>0.000000</td>\n",
       "      <td>314.000000</td>\n",
       "    </tr>\n",
       "    <tr>\n",
       "      <th>50%</th>\n",
       "      <td>8.457945e+05</td>\n",
       "      <td>428270.000000</td>\n",
       "      <td>0.000000</td>\n",
       "      <td>0.000000</td>\n",
       "      <td>481.000000</td>\n",
       "    </tr>\n",
       "    <tr>\n",
       "      <th>75%</th>\n",
       "      <td>8.883282e+05</td>\n",
       "      <td>450484.000000</td>\n",
       "      <td>416281.250000</td>\n",
       "      <td>1.000000</td>\n",
       "      <td>3495.000000</td>\n",
       "    </tr>\n",
       "    <tr>\n",
       "      <th>max</th>\n",
       "      <td>1.483880e+06</td>\n",
       "      <td>754245.000000</td>\n",
       "      <td>754194.000000</td>\n",
       "      <td>4.000000</td>\n",
       "      <td>30156.000000</td>\n",
       "    </tr>\n",
       "  </tbody>\n",
       "</table>\n",
       "</div>"
      ],
      "text/plain": [
       "                cid           pid1           pid2      relation         locid\n",
       "count  3.829600e+04   38296.000000   38296.000000  38296.000000  38296.000000\n",
       "mean   8.506714e+05  427137.056037  179249.370013      0.447279   3910.718874\n",
       "std    2.290542e+05  122472.789775  219463.483225      0.524066   6898.311357\n",
       "min    2.680000e+02      84.000000       0.000000      0.000000      1.000000\n",
       "25%    8.281048e+05  419577.750000       0.000000      0.000000    314.000000\n",
       "50%    8.457945e+05  428270.000000       0.000000      0.000000    481.000000\n",
       "75%    8.883282e+05  450484.000000  416281.250000      1.000000   3495.000000\n",
       "max    1.483880e+06  754245.000000  754194.000000      4.000000  30156.000000"
      ]
     },
     "execution_count": 159,
     "metadata": {},
     "output_type": "execute_result"
    }
   ],
   "source": [
    "connect_cs"
   ]
  },
  {
   "cell_type": "code",
   "execution_count": null,
   "metadata": {},
   "outputs": [],
   "source": []
  }
 ],
 "metadata": {
  "kernelspec": {
   "display_name": "Python 3",
   "language": "python",
   "name": "python3"
  },
  "language_info": {
   "codemirror_mode": {
    "name": "ipython",
    "version": 3
   },
   "file_extension": ".py",
   "mimetype": "text/x-python",
   "name": "python",
   "nbconvert_exporter": "python",
   "pygments_lexer": "ipython3",
   "version": "3.6.9"
  }
 },
 "nbformat": 4,
 "nbformat_minor": 2
}
