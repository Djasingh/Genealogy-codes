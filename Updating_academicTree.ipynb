{
 "cells": [
  {
   "cell_type": "code",
   "execution_count": null,
   "metadata": {},
   "outputs": [],
   "source": [
    "import pandas as pd\n",
    "import requests\n",
    "import re\n",
    "from SPARQLWrapper import SPARQLWrapper, JSON\n",
    "from collections import defaultdict"
   ]
  },
  {
   "cell_type": "code",
   "execution_count": null,
   "metadata": {},
   "outputs": [],
   "source": []
  },
  {
   "cell_type": "code",
   "execution_count": null,
   "metadata": {},
   "outputs": [],
   "source": [
    "endpoint_url = \"https://query.wikidata.org/sparql\""
   ]
  },
  {
   "cell_type": "code",
   "execution_count": null,
   "metadata": {},
   "outputs": [],
   "source": [
    "people=pd.read_csv('./neurotree/people_cs.tsv', sep='\\t', encoding='utf-8',  escapechar='\\\\')\n",
    "connect=pd.read_csv('./neurotree/connect_cs.tsv', sep='\\t', encoding='latin-1',  escapechar='\\\\')\n",
    "people['name']=people['firstname'].fillna('')+\" \"+people['middlename'].fillna('')+\" \"+people['lastname'].fillna('')\n",
    "people['name']=people['name'].str.replace('.','',regex=False)\n",
    "people['name']=people['name'].str.replace(' +',' ',regex=True)"
   ]
  },
  {
   "cell_type": "code",
   "execution_count": null,
   "metadata": {},
   "outputs": [],
   "source": [
    "def find_similar(names):\n",
    "    global people\n",
    "    names=[name.strip() for name in names]\n",
    "    names=[name.replace('.','') for name in names]\n",
    "    names=[re.sub(' +',' ',name) for name in names]\n",
    "    sim=people['name'].str.contains('|'.join(names),flags=re.IGNORECASE, regex=True)\n",
    "    sim_inx=sim[sim==True].index\n",
    "    if len(sim_inx)==1:\n",
    "        return str(people.values[sim_inx[0]][0])\n",
    "    else:\n",
    "        return str(len(sim_inx))"
   ]
  },
  {
   "cell_type": "code",
   "execution_count": null,
   "metadata": {},
   "outputs": [],
   "source": [
    "def getEntity_id(name):\n",
    "    query=name\n",
    "    Wikidata_api=\"https://www.wikidata.org/w/api.php\"\n",
    "    params={\n",
    "        'action':'wbsearchentities',\n",
    "        'search':query,\n",
    "        'language':'en',\n",
    "        'format':'json',\n",
    "        'props':''\n",
    "    }\n",
    "    res=requests.get(Wikidata_api, params=params)\n",
    "    if len(res.json()['search'])==1:\n",
    "        return res.json()['search'][0]['id']\n",
    "    else:\n",
    "        return None"
   ]
  },
  {
   "cell_type": "code",
   "execution_count": null,
   "metadata": {},
   "outputs": [],
   "source": [
    "wikidata_query = \"\"\"SELECT ?entityLabel ?entityAltLabel ?occupationLabel ?field_of_workLabel ?organizationLabel \n",
    "?start_time_organization ?end_time_organization ?awardLabel ?point_in_time_award ?doc_advisorLabel ?doc_studentLabel ?doc_thesisLabel ?studentLabel ?student_ofLabel ?notable_workLabel ?website ?dblp_id \n",
    "?academic_treeid ?acm_id ?employeeLabel ?start_time_employee ?end_time_employee ?educationLabel ?degree_educationLabel \n",
    "?start_time_education ?end_time_education ?academic_degreeLabel ?point_in_time_academic_degree \n",
    "?conffered_by_academic_degreeLabel\n",
    "WHERE \n",
    "{ BIND(wd:Q92741 AS ?entity).\n",
    "  optional{?entity wdt:P27 ?country.}\n",
    "  optional{?entity wdt:P106 ?occupation.}\n",
    "  optional{?entity wdt:P101 ?field_of_work.}\n",
    "  optional{?entity p:P463 ?stmt4. \n",
    "          ?stmt4 ps:P463 ?organization.}\n",
    "  optional{?stmt4 (pq:P580|pq:P585) ?start_time_organization.}\n",
    "  optional{?stmt4 pq:P582 ?end_time_organization.}\n",
    "  optional{?entity p:P166 ?stmt3.\n",
    "            ?stmt3 ps:P166 ?award.}\n",
    "  optional{?stmt3 pq:P166 ?point_in_time_award.}\n",
    "  optional{?entity wdt:P184 ?doc_advisor.}\n",
    "  optional{?entity wdt:P184 ?doc_advisor.}\n",
    "  optional{?entity wdt:P185 ?doc_student.}\n",
    "  optional{?entity wdt:P1026 ?doc_thesis.}\n",
    "  optional{?entity wdt:P802 ?student.}\n",
    "  optional{?entity wdt:P1066 ?student_of.}\n",
    "  optional{?entity wdt:P800 ?notable_work.}\n",
    "  optional{?entity wdt:P856 ?website.}\n",
    "  optional{?entity wdt:P2456 ?dblp_id.}\n",
    "  optional{?entity wdt:P2381 ?academic_treeid.}\n",
    "  optional{?entity wdt:P864 ?acm_id.}\n",
    "  optional{?entity p:P108 ?stmt.\n",
    "           ?stmt  ps:P108 ?employee.}\n",
    "  optional{?stmt  pq:P580 ?start_time_employee.}\n",
    "  optional{?stmt  pq:P582 ?end_time_employee.}\n",
    "  optional{?entity p:P69 ?stmt1.\n",
    "           ?stmt1  ps:P69 ?education.}\n",
    "  optional{?stmt1  pq:P512 ?degree_education.}\n",
    "  optional{?stmt1  pq:P580 ?start_time_education.}\n",
    "  optional{?stmt1  pq:P582 ?end_time_education.}\n",
    "  optional{?entity p:P512 ?stmt2.\n",
    "           ?stmt2  ps:P512 ?academic_degree.}\n",
    "  optional{?stmt2  pq:P585 ?point_in_time_academic_degree.}\n",
    "  optional{?stmt2  pq:P1027 ?conffered_by_academic_degree.}\n",
    "  \n",
    "  SERVICE wikibase:label { bd:serviceParam wikibase:language \"[AUTO_LANGUAGE],en\". }\n",
    "}\n",
    "\"\"\""
   ]
  },
  {
   "cell_type": "code",
   "execution_count": null,
   "metadata": {},
   "outputs": [],
   "source": []
  },
  {
   "cell_type": "code",
   "execution_count": null,
   "metadata": {},
   "outputs": [],
   "source": []
  },
  {
   "cell_type": "code",
   "execution_count": null,
   "metadata": {},
   "outputs": [],
   "source": []
  },
  {
   "cell_type": "code",
   "execution_count": null,
   "metadata": {},
   "outputs": [],
   "source": [
    "def get_results(endpoint_url, query):\n",
    "    sparql = SPARQLWrapper(endpoint_url)\n",
    "    sparql.setQuery(query)\n",
    "    sparql.setReturnFormat(JSON)\n",
    "    return sparql.query().convert()"
   ]
  },
  {
   "cell_type": "code",
   "execution_count": null,
   "metadata": {},
   "outputs": [],
   "source": [
    "q_result=get_results(endpoint_url,wikidata_query)"
   ]
  },
  {
   "cell_type": "code",
   "execution_count": null,
   "metadata": {},
   "outputs": [],
   "source": [
    "q_result[\"results\"][\"bindings\"][0]"
   ]
  },
  {
   "cell_type": "code",
   "execution_count": null,
   "metadata": {},
   "outputs": [],
   "source": [
    "dct = defaultdict(set)\n",
    "stmt=['employee','education','organization','award','academic_degree']\n",
    "for result in q_result[\"results\"][\"bindings\"]:\n",
    "    temp=defaultdict(list)\n",
    "    flag=False\n",
    "    for key in result:      \n",
    "        for a in stmt:\n",
    "            if a in key:\n",
    "                temp[a].append(result[key]['value'])\n",
    "                flag=True\n",
    "                break\n",
    "        if not flag:\n",
    "            dct[key].add(result[key]['value'])       \n",
    "    for key in temp:\n",
    "        if len(temp[key])>0:\n",
    "            dct[key+\"Label\"].add(tuple(temp[key]))\n",
    "ab.append(dct)"
   ]
  },
  {
   "cell_type": "code",
   "execution_count": null,
   "metadata": {},
   "outputs": [],
   "source": []
  },
  {
   "cell_type": "code",
   "execution_count": null,
   "metadata": {},
   "outputs": [],
   "source": [
    "dct = defaultdict(set)\n",
    "stmt=['employee','education','organization','award','academic_degree']\n",
    "for result in q_result[\"results\"][\"bindings\"]:\n",
    "    edu=[]\n",
    "    emp=[]\n",
    "    for key in result:      \n",
    "        if key == 'start_time_emp' or key=='end_time_emp':\n",
    "            emp.append(result[key]['value'].split('T')[0])\n",
    "        elif key=='start_time_edu' or key=='end_time_edu':\n",
    "            edu.append(result[key]['value'].split('T')[0])\n",
    "        elif key=='educationLabel':\n",
    "            edu.append(result[key]['value'])\n",
    "        elif key=='employeeLabel':\n",
    "            emp.append(result[key]['value'])\n",
    "        else:\n",
    "            dct[key].add(result[key]['value'])\n",
    "    if len(edu) > 0:\n",
    "        dct['educationLabel'].add(tuple(edu))\n",
    "    if len(emp) > 0:\n",
    "        dct['employeeLabel'].add(tuple(emp))\n",
    "a.append(dct)"
   ]
  },
  {
   "cell_type": "code",
   "execution_count": null,
   "metadata": {},
   "outputs": [],
   "source": [
    "names=people[['pid','name']]\n",
    "stud_pid=[]\n",
    "stud_wiki_id=[]\n",
    "studLabel=[]\n",
    "supLabel=[]\n",
    "sup_wiki_id=[]\n",
    "sup_pid=[]\n",
    "for pid, name in names.values[:]:\n",
    "    query = \"\"\"PREFIX wd: <http://www.wikidata.org/entity/>\n",
    "    SELECT Distinct ?entityLabel ?supervisor ?supervisorLabel ?supervisorAltLabel\n",
    "    WHERE\n",
    "    {\n",
    "      BIND(%s As ?entity)\n",
    "      ?entity (wdt:P184|wdt:P1066) ?supervisor.\n",
    "      SERVICE wikibase:label { bd:serviceParam wikibase:language \"[AUTO_LANGUAGE],en\". }\n",
    "    }\"\"\"\n",
    "    res=entity_id(name)\n",
    "    if res is not None:\n",
    "        keyword=\"wd\"+\":\"+res\n",
    "        query=query%keyword\n",
    "        results = get_results(endpoint_url, query)\n",
    "        if len(results[\"results\"][\"bindings\"]) > 0:\n",
    "            #print('entity:{}'.format(res))\n",
    "            for result in results[\"results\"][\"bindings\"]:\n",
    "                wiki_name=[]\n",
    "                wiki_name.append(result['supervisorLabel']['value'])\n",
    "                if result.get('supervisorAltLabel')==None:\n",
    "                    wiki_name=wiki_name\n",
    "                else:\n",
    "                    altName=result['supervisorAltLabel']['value'].split(\",\")\n",
    "                    wiki_name=wiki_name+altName\n",
    "                stud_pid.append(pid)\n",
    "                stud_wiki_id.append(keyword)\n",
    "                studLabel.append(result['entityLabel']['value'])\n",
    "                supLabel.append(result['supervisorLabel']['value'])\n",
    "                sup_wiki_id.append(result['supervisor']['value'])\n",
    "                s_pid=find_similar(wiki_name)\n",
    "                sup_pid.append(s_pid)\n",
    "info=pd.DataFrame(list(zip(stud_pid, stud_wiki_id,studLabel,supLabel,sup_wiki_id,sup_pid))\n",
    "                  ,columns =['stud_pid', 'stud_wiki_id','studLabel','supLabel','sup_wiki_id','sup_pid'])"
   ]
  },
  {
   "cell_type": "code",
   "execution_count": null,
   "metadata": {},
   "outputs": [],
   "source": [
    "def knowledge_graph(name, wikidataApi, getqueryResult, query, prefix):\n",
    "    entity_id=wikidataApi(name)\n",
    "    if entity_id is not None:\n",
    "        item=prefix+\":\"+res\n",
    "        query=query%item\n",
    "        results = getqueryResult(endpoint_url, query)\n",
    "        if len(results[\"results\"][\"bindings\"]) > 0:\n",
    "            for result in results[\"results\"][\"bindings\"]:\n",
    "                wiki_name=[]\n",
    "                wiki_name.append(result['supervisorLabel']['value'])\n",
    "                if result.get('supervisorAltLabel') is None:\n",
    "                    wiki_name=wiki_name\n",
    "                else:\n",
    "                    altName=result['supervisorAltLabel']['value'].split(\",\")\n",
    "                    wiki_name=wiki_name+altName\n",
    "                stud_pid.append(pid)\n",
    "                stud_wiki_id.append(keyword)\n",
    "                studLabel.append(result['entityLabel']['value'])\n",
    "                supLabel.append(result['supervisorLabel']['value'])\n",
    "                sup_wiki_id.append(result['supervisor']['value'])\n",
    "                s_pid=find_similar(wiki_name)\n",
    "                sup_pid.append(s_pid)\n",
    "info=pd.DataFrame(list(zip(stud_pid, stud_wiki_id,studLabel,supLabel,sup_wiki_id,sup_pid))\n",
    "                  ,columns =['stud_pid', 'stud_wiki_id','studLabel','supLabel','sup_wiki_id','sup_pid'])\n",
    "    "
   ]
  },
  {
   "cell_type": "code",
   "execution_count": null,
   "metadata": {},
   "outputs": [],
   "source": [
    "info"
   ]
  },
  {
   "cell_type": "code",
   "execution_count": null,
   "metadata": {},
   "outputs": [],
   "source": [
    "action=query&format=json&prop=pageprops&titles=Les%20Mis%C3%A9rables&formatversion=2&ppprop=wikibase_item"
   ]
  },
  {
   "cell_type": "code",
   "execution_count": null,
   "metadata": {},
   "outputs": [],
   "source": [
    "temp={}"
   ]
  },
  {
   "cell_type": "code",
   "execution_count": null,
   "metadata": {},
   "outputs": [],
   "source": [
    "(temp[] for a in ['employee','education','organization','award','academic_degree'])"
   ]
  },
  {
   "cell_type": "code",
   "execution_count": null,
   "metadata": {},
   "outputs": [],
   "source": []
  },
  {
   "cell_type": "code",
   "execution_count": null,
   "metadata": {},
   "outputs": [],
   "source": [
    "print('keyword:{}'.format(name))\n",
    "print('student:{}'.format(result['entityLabel']['value']))\n",
    "print('supervisor_id:{}'.format(result['supervisor']['value']))\n",
    "print('supervisor:{}'.format(wiki_name))\n",
    "pids=(pid for pid in (find_similar(n) for n in wiki_name) if pid != \"0\")\n",
    "print('pid:{}'.format(list(pids)))\n",
    "pids=(pid for pid in (find_similar(n) for n in wiki_name) if pid != \"0\")"
   ]
  },
  {
   "cell_type": "code",
   "execution_count": null,
   "metadata": {},
   "outputs": [],
   "source": []
  },
  {
   "cell_type": "code",
   "execution_count": null,
   "metadata": {},
   "outputs": [],
   "source": []
  },
  {
   "cell_type": "code",
   "execution_count": null,
   "metadata": {},
   "outputs": [],
   "source": [
    "people[people['name'].str.contains(\"Good\",flags=re.IGNORECASE, regex=True)]"
   ]
  },
  {
   "cell_type": "code",
   "execution_count": null,
   "metadata": {},
   "outputs": [],
   "source": [
    "pid=people[people['name'].str.contains(\"David\",flags=re.IGNORECASE, regex=True)]['pid']"
   ]
  },
  {
   "cell_type": "code",
   "execution_count": null,
   "metadata": {},
   "outputs": [],
   "source": [
    "pid.values[0]"
   ]
  },
  {
   "cell_type": "code",
   "execution_count": null,
   "metadata": {},
   "outputs": [],
   "source": [
    "connect[connect['pid2']==pid.values[0]]"
   ]
  },
  {
   "cell_type": "code",
   "execution_count": null,
   "metadata": {},
   "outputs": [],
   "source": [
    "people[people['pid']==2003]"
   ]
  },
  {
   "cell_type": "code",
   "execution_count": null,
   "metadata": {},
   "outputs": [],
   "source": [
    "people[people['pid']==849]"
   ]
  },
  {
   "cell_type": "code",
   "execution_count": null,
   "metadata": {},
   "outputs": [],
   "source": [
    "connect.columns"
   ]
  },
  {
   "cell_type": "code",
   "execution_count": null,
   "metadata": {},
   "outputs": [],
   "source": [
    "people['name'].str"
   ]
  },
  {
   "cell_type": "code",
   "execution_count": null,
   "metadata": {},
   "outputs": [],
   "source": [
    "a=query1.groupby('entityLabel')['institutionLabel'].apply(list)"
   ]
  },
  {
   "cell_type": "code",
   "execution_count": null,
   "metadata": {},
   "outputs": [],
   "source": [
    "query = \"\"\"PREFIX wd: <http://www.wikidata.org/entity/>\n",
    "SELECT Distinct ?entityLabel ?supervisorLabel ?supervisorAltLabel\n",
    "WHERE\n",
    "{\n",
    "  BIND(wd:Q7173587 AS ?entity)\n",
    "  ?entity (wdt:P184|wdt:P1066) ?supervisor.\n",
    "  SERVICE wikibase:label { bd:serviceParam wikibase:language \"[AUTO_LANGUAGE],en\". }\n",
    "}\"\"\"\n",
    "results = get_results(endpoint_url, query)\n",
    "for result in results[\"results\"][\"bindings\"]:\n",
    "    print(result['entityLabel']['value']) \n",
    "    print('{}'.format(result.get('supervisorAltLabel')))"
   ]
  },
  {
   "cell_type": "code",
   "execution_count": null,
   "metadata": {},
   "outputs": [],
   "source": [
    "a=set()\n",
    "b=[2,3,4]\n",
    "a.add(b)"
   ]
  },
  {
   "cell_type": "code",
   "execution_count": null,
   "metadata": {},
   "outputs": [],
   "source": []
  }
 ],
 "metadata": {
  "kernelspec": {
   "display_name": "Python 3",
   "language": "python",
   "name": "python3"
  },
  "language_info": {
   "codemirror_mode": {
    "name": "ipython",
    "version": 3
   },
   "file_extension": ".py",
   "mimetype": "text/x-python",
   "name": "python",
   "nbconvert_exporter": "python",
   "pygments_lexer": "ipython3",
   "version": "3.6.8"
  }
 },
 "nbformat": 4,
 "nbformat_minor": 2
}
