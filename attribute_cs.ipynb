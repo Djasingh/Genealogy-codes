{
 "cells": [
  {
   "cell_type": "code",
   "execution_count": null,
   "metadata": {},
   "outputs": [],
   "source": []
  },
  {
   "cell_type": "code",
   "execution_count": null,
   "metadata": {},
   "outputs": [],
   "source": [
    "def attr_statistics(tab):\n",
    "    total_attr=[]\n",
    "    for row in tab.values:\n",
    "        attr=0\n",
    "        for col in row:\n",
    "            if str(col)=='nan' or str(col)=='N':\n",
    "                continue\n",
    "            else:\n",
    "                attr+=1\n",
    "        total_attr.append(attr)\n",
    "    return total_attr\n",
    "\n",
    "total_attr = attr_statistics(inst)\n",
    "\n",
    "max_attr=max(total_attr)\n",
    "print(max_attr)\n",
    "min_attr=min(total_attr)\n",
    "print(min_attr)\n",
    "avg_attr=sum(total_attr)/len(total_attr)\n",
    "print(avg_attr)"
   ]
  },
  {
   "cell_type": "code",
   "execution_count": null,
   "metadata": {},
   "outputs": [],
   "source": [
    "sub_list=['Computer Science','Neuroscience','Mathematics','Physiology','Robotics','Chemistry',\n",
    "          'Physics','Linguistics','Meteorology','Astronomy']\n",
    "res=[]\n",
    "\n",
    "people_cs=people[people['majorarea'].str.contains('computerscience')]\n",
    "people_neuro=people[people['majorarea'].str.contains('neuro')]\n",
    "people_maths=people[people['majorarea'].str.contains('math')]\n",
    "people_physiology=people[people['majorarea'].str.contains('physiology')]\n",
    "people_robotics=people[people['majorarea'].str.contains('robotics')]\n",
    "people_chem=people[people['majorarea'].str.contains('chemistry')]\n",
    "people_physics=people[people['majorarea'].str.contains('physics')]\n",
    "people_linguistic=people[people['majorarea'].str.contains('ling')]\n",
    "people_meteorology=people[people['majorarea'].str.contains('meteorology')]\n",
    "people_astronomy=people[people['majorarea'].str.contains('astronomy')]\n",
    "\n",
    "res.append(len(people_cs))\n",
    "res.append(len(people_neuro))\n",
    "res.append(len(people_maths))\n",
    "res.append(len(people_physiology))\n",
    "res.append(len(people_robotics))\n",
    "res.append(len(people_chem))\n",
    "res.append(len(people_physics))\n",
    "res.append(len(people_linguistic))\n",
    "res.append(len(people_meteorology))\n",
    "res.append(len(people_astronomy))\n",
    "\n",
    "index = np.arange(len(sub_list))\n",
    "plt.bar(index, reser)\n",
    "plt.xlabel('Academic Tree Disciplines', fontsize=10)\n",
    "plt.ylabel('No of Researchers', fontsize=10)\n",
    "plt.xticks(index, sub_list, fontsize=10, rotation=90)\n",
    "plt.title('Researcher distribution across different disciplines')\n",
    "plt.gcf().subplots_adjust(bottom=0.15)\n",
    "plt.savefig('domains.png',bbox_inches='tight')\n",
    "plt.show()"
   ]
  }
 ],
 "metadata": {
  "kernelspec": {
   "display_name": "Python 3",
   "language": "python",
   "name": "python3"
  },
  "language_info": {
   "codemirror_mode": {
    "name": "ipython",
    "version": 3
   },
   "file_extension": ".py",
   "mimetype": "text/x-python",
   "name": "python",
   "nbconvert_exporter": "python",
   "pygments_lexer": "ipython3",
   "version": "3.6.9"
  }
 },
 "nbformat": 4,
 "nbformat_minor": 2
}
