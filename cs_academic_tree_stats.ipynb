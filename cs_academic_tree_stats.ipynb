{
 "cells": [
  {
   "cell_type": "code",
   "execution_count": 1,
   "metadata": {},
   "outputs": [],
   "source": [
    "import pandas as pd\n",
    "import matplotlib.pyplot as plt\n",
    "import numpy as np\n",
    "import collections\n",
    "import networkx as nx"
   ]
  },
  {
   "cell_type": "code",
   "execution_count": 2,
   "metadata": {},
   "outputs": [],
   "source": [
    "missing_values=['N','0000-00-00']"
   ]
  },
  {
   "cell_type": "code",
   "execution_count": 3,
   "metadata": {},
   "outputs": [],
   "source": [
    "people_cs_inter=pd.read_csv('./neurotree/people_cs.tsv', sep='\\t',encoding='utf-8',escapechar='\\\\',na_values = missing_values)\n",
    "connect_cs=pd.read_csv('./neurotree/connect_cs.tsv',sep='\\t', encoding='latin-1',escapechar='\\\\',na_values = missing_values)\n",
    "inst=pd.read_csv('./neurotree/location.tsv',sep='\\t',encoding='latin-1',escapechar='\\\\',na_values = missing_values)"
   ]
  },
  {
   "cell_type": "code",
   "execution_count": 4,
   "metadata": {},
   "outputs": [
    {
     "data": {
      "text/plain": [
       "(38296, 11)"
      ]
     },
     "execution_count": 4,
     "metadata": {},
     "output_type": "execute_result"
    }
   ],
   "source": [
    "connect_cs.shape"
   ]
  },
  {
   "cell_type": "code",
   "execution_count": 5,
   "metadata": {},
   "outputs": [],
   "source": [
    "connect_cs_remove=connect_cs[~(connect_cs['pid2']==0)]"
   ]
  },
  {
   "cell_type": "code",
   "execution_count": 6,
   "metadata": {},
   "outputs": [
    {
     "data": {
      "text/plain": [
       "(16853, 11)"
      ]
     },
     "execution_count": 6,
     "metadata": {},
     "output_type": "execute_result"
    }
   ],
   "source": [
    "connect_cs_remove.shape"
   ]
  },
  {
   "cell_type": "code",
   "execution_count": 7,
   "metadata": {},
   "outputs": [
    {
     "data": {
      "text/plain": [
       "cid               0\n",
       "pid1              0\n",
       "pid2              0\n",
       "relation          0\n",
       "location        129\n",
       "locid             0\n",
       "department    12012\n",
       "startdate     16379\n",
       "stopdate        423\n",
       "addedby           0\n",
       "dateadded         0\n",
       "dtype: int64"
      ]
     },
     "execution_count": 7,
     "metadata": {},
     "output_type": "execute_result"
    }
   ],
   "source": [
    "connect_cs_remove.isnull().sum()"
   ]
  },
  {
   "cell_type": "code",
   "execution_count": 8,
   "metadata": {},
   "outputs": [],
   "source": [
    "conn_undergrad=connect_cs[connect_cs['relation']==0]\n",
    "conn_grad=connect_cs[connect_cs['relation']==1]\n",
    "conn_postdoc=connect_cs[connect_cs['relation']==2]\n",
    "conn_rs=connect_cs[connect_cs['relation']==3]\n",
    "conn_collab=connect_cs[connect_cs['relation']==4]"
   ]
  },
  {
   "cell_type": "code",
   "execution_count": 9,
   "metadata": {},
   "outputs": [
    {
     "data": {
      "image/png": "[encoded data removed]",
      "text/plain": [
       "<Figure size 432x360 with 1 Axes>"
      ]
     },
     "metadata": {
      "needs_background": "light"
     },
     "output_type": "display_data"
    }
   ],
   "source": [
    "index1=['under_grad','grad','postdoc','RS','Collab']\n",
    "conn_list=[len(conn_undergrad),len(conn_grad),len(conn_postdoc),len(conn_rs),len(conn_collab)]\n",
    "fig = plt.figure(figsize=(6,5))\n",
    "plt.bar(index1, conn_list)\n",
    "plt.xlabel('Mentorship relations', fontsize=10)\n",
    "plt.ylabel('No. of connection', fontsize=10)\n",
    "plt.title('Mentorship distribution across different relations')\n",
    "plt.show()"
   ]
  },
  {
   "cell_type": "code",
   "execution_count": 10,
   "metadata": {},
   "outputs": [
    {
     "name": "stdout",
     "output_type": "stream",
     "text": [
      "Missing mentor informtaion i.e pid2==0\n",
      "21443\n",
      "0\n",
      "0\n",
      "0\n",
      "0\n"
     ]
    }
   ],
   "source": [
    "print('Missing mentor informtaion i.e pid2==0')\n",
    "print(conn_undergrad[conn_undergrad['pid2']==0].shape[0])\n",
    "print(conn_grad[conn_grad['pid2']==0].shape[0])\n",
    "print(conn_postdoc[conn_postdoc['pid2']==0].shape[0])\n",
    "print(conn_rs[conn_rs['pid2']==0].shape[0])\n",
    "print(conn_collab[conn_collab['pid2']==0].shape[0])"
   ]
  },
  {
   "cell_type": "code",
   "execution_count": 11,
   "metadata": {},
   "outputs": [
    {
     "data": {
      "text/plain": [
       "[21477, 16657, 81, 14, 67]"
      ]
     },
     "execution_count": 11,
     "metadata": {},
     "output_type": "execute_result"
    }
   ],
   "source": [
    "conn_list"
   ]
  },
  {
   "cell_type": "code",
   "execution_count": 12,
   "metadata": {},
   "outputs": [],
   "source": [
    "connect_cs_remove=connect_cs[~(connect_cs['pid2']==0)]\n",
    "G=nx.from_pandas_edgelist(connect_cs_remove, 'pid1', 'pid2',create_using=nx.DiGraph())\n",
    "G.add_nodes_from(nodes_for_adding=people_cs_inter['pid'].tolist())"
   ]
  },
  {
   "cell_type": "code",
   "execution_count": 16,
   "metadata": {},
   "outputs": [
    {
     "data": {
      "text/plain": [
       "(16853, 11)"
      ]
     },
     "execution_count": 16,
     "metadata": {},
     "output_type": "execute_result"
    }
   ],
   "source": [
    "connect_cs_remove.shape"
   ]
  },
  {
   "cell_type": "code",
   "execution_count": 14,
   "metadata": {},
   "outputs": [
    {
     "data": {
      "image/png": "[encoded data removed]",
      "text/plain": [
       "<Figure size 432x288 with 1 Axes>"
      ]
     },
     "metadata": {
      "needs_background": "light"
     },
     "output_type": "display_data"
    }
   ],
   "source": [
    "degree_sequence = sorted([d for n, d in G.out_degree()], reverse=True)  # degree sequence\n",
    "degreeCount = collections.Counter(degree_sequence)\n",
    "deg, cnt = zip(*degreeCount.items())\n",
    "\n",
    "fig, ax = plt.subplots()\n",
    "plt.bar(deg, cnt, color='b')\n",
    "plt.title(\"Degree Histogram\")\n",
    "plt.ylabel(\"Count\")\n",
    "plt.xlabel(\"Degree\")\n",
    "#plt.ylim(0,20000)\n",
    "plt.xlim(0,20)\n",
    "plt.show()"
   ]
  },
  {
   "cell_type": "code",
   "execution_count": 15,
   "metadata": {},
   "outputs": [
    {
     "data": {
      "text/plain": [
       "Counter({7: 2, 6: 1, 5: 1, 4: 10, 3: 24, 2: 163, 1: 16379, 0: 5502})"
      ]
     },
     "execution_count": 15,
     "metadata": {},
     "output_type": "execute_result"
    }
   ],
   "source": [
    "degreeCount"
   ]
  },
  {
   "cell_type": "code",
   "execution_count": null,
   "metadata": {},
   "outputs": [],
   "source": []
  }
 ],
 "metadata": {
  "kernelspec": {
   "display_name": "Python 3",
   "language": "python",
   "name": "python3"
  },
  "language_info": {
   "codemirror_mode": {
    "name": "ipython",
    "version": 3
   },
   "file_extension": ".py",
   "mimetype": "text/x-python",
   "name": "python",
   "nbconvert_exporter": "python",
   "pygments_lexer": "ipython3",
   "version": "3.6.9"
  }
 },
 "nbformat": 4,
 "nbformat_minor": 2
}
