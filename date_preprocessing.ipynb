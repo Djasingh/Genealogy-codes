{
 "cells": [
  {
   "cell_type": "code",
   "execution_count": 2,
   "metadata": {},
   "outputs": [],
   "source": [
    "import pandas as pd\n",
    "import matplotlib.pyplot as plt\n",
    "import numpy as np\n",
    "import collections\n",
    "import networkx as nx\n",
    "import functools\n",
    "import operator\n",
    "%matplotlib inline "
   ]
  },
  {
   "cell_type": "code",
   "execution_count": 2,
   "metadata": {},
   "outputs": [],
   "source": [
    "missing_values=['N','0000-00-00']"
   ]
  },
  {
   "cell_type": "code",
   "execution_count": 3,
   "metadata": {},
   "outputs": [
    {
     "name": "stderr",
     "output_type": "stream",
     "text": [
      "/home/dhananjay/genealogy/.env/lib/python3.6/site-packages/IPython/core/interactiveshell.py:3051: DtypeWarning: Columns (7,8) have mixed types. Specify dtype option on import or set low_memory=False.\n",
      "  interactivity=interactivity, compiler=compiler, result=result)\n"
     ]
    }
   ],
   "source": [
    "people=pd.read_csv('./neurotree/people.tsv', sep='\\t', encoding='utf-8',  escapechar='\\\\', \n",
    "                   na_values = missing_values)\n",
    "connect=pd.read_csv('./neurotree/connect.tsv', sep='\\t', encoding='latin-1',  escapechar='\\\\', \n",
    "                    na_values = missing_values)"
   ]
  },
  {
   "cell_type": "code",
   "execution_count": 4,
   "metadata": {},
   "outputs": [],
   "source": [
    "connect_remove=connect[~(connect['pid2']==0)].copy()"
   ]
  },
  {
   "cell_type": "code",
   "execution_count": 41,
   "metadata": {},
   "outputs": [
    {
     "data": {
      "text/plain": [
       "(631273, 11)"
      ]
     },
     "execution_count": 41,
     "metadata": {},
     "output_type": "execute_result"
    }
   ],
   "source": [
    "connect_remove.shape"
   ]
  },
  {
   "cell_type": "code",
   "execution_count": 5,
   "metadata": {},
   "outputs": [
    {
     "data": {
      "text/plain": [
       "545799"
      ]
     },
     "execution_count": 5,
     "metadata": {},
     "output_type": "execute_result"
    }
   ],
   "source": [
    "connect_remove['startdate'].isnull().sum()"
   ]
  },
  {
   "cell_type": "code",
   "execution_count": 6,
   "metadata": {},
   "outputs": [],
   "source": [
    "date_att=['startdate','stopdate']\n",
    "connect_remove[date_att]=connect_remove[date_att].applymap(lambda x : int(x.split('-')[0]) if pd.notna(x) else x )"
   ]
  },
  {
   "cell_type": "code",
   "execution_count": 7,
   "metadata": {},
   "outputs": [],
   "source": [
    "def date_processing(date,time=5):\n",
    "    if pd.isna(date[0]) and pd.notna(date[1]):\n",
    "        return (date[1]-time)\n",
    "    else:\n",
    "        return date[0]\n",
    "date_pre = functools.partial(date_processing,time=5)"
   ]
  },
  {
   "cell_type": "code",
   "execution_count": 8,
   "metadata": {},
   "outputs": [],
   "source": [
    "connect_remove['startdate']=connect_remove[['startdate','stopdate']].apply(date_pre, axis=1)"
   ]
  },
  {
   "cell_type": "code",
   "execution_count": 9,
   "metadata": {},
   "outputs": [],
   "source": [
    "def fecundity_value(pid, connection, time=10):\n",
    "    #print(pid)\n",
    "    temp=connection[connection['pid2']==pid].copy()\n",
    "    temp['startdate']=temp['startdate'].interpolate()\n",
    "    temp['startdate']=temp['startdate'].fillna(temp['startdate'].mean())\n",
    "    if (len(temp) > 0) and ~(temp['startdate'].isnull().values.any()):\n",
    "        temp['startdate']=temp['startdate'].astype(int)\n",
    "        tmp_list=temp['startdate'].values\n",
    "        min_year=min(tmp_list)\n",
    "        max_year=min_year+time\n",
    "        fecun=len(temp[(temp['startdate'] >= min_year) & (temp['startdate'] <= max_year)])\n",
    "    else:\n",
    "        fecun=0\n",
    "    return fecun"
   ]
  },
  {
   "cell_type": "code",
   "execution_count": 10,
   "metadata": {},
   "outputs": [],
   "source": [
    "con_uni_pid=pd.unique(connect_remove[['pid1', 'pid2']].values.ravel('K'))\n",
    "mod_people=people[people['pid'].isin(con_uni_pid)].copy()"
   ]
  },
  {
   "cell_type": "code",
   "execution_count": 11,
   "metadata": {},
   "outputs": [
    {
     "name": "stdout",
     "output_type": "stream",
     "text": [
      "CPU times: user 24min 12s, sys: 359 ms, total: 24min 13s\n",
      "Wall time: 24min 12s\n"
     ]
    }
   ],
   "source": [
    "%%time\n",
    "fecun5 = functools.partial(fecundity_value, connection=connect_remove[['pid1','pid2','startdate']],time=10)\n",
    "mod_people['fecun10']=mod_people['pid'].apply(fecun5)"
   ]
  },
  {
   "cell_type": "code",
   "execution_count": 32,
   "metadata": {},
   "outputs": [
    {
     "data": {
      "text/plain": [
       "(0, 200000)"
      ]
     },
     "execution_count": 32,
     "metadata": {},
     "output_type": "execute_result"
    },
    {
     "data": {
      "image/png": "[encoded data removed]",
      "text/plain": [
       "<Figure size 432x288 with 1 Axes>"
      ]
     },
     "metadata": {
      "needs_background": "light"
     },
     "output_type": "display_data"
    }
   ],
   "source": [
    "mod_people['fecun10'].value_counts().plot()\n",
    "plt.xlim(0,30)\n",
    "plt.ylim(0,200000)"
   ]
  },
  {
   "cell_type": "code",
   "execution_count": 33,
   "metadata": {},
   "outputs": [
    {
     "data": {
      "text/plain": [
       "0      514233\n",
       "1       60822\n",
       "2       27362\n",
       "3       17026\n",
       "4       11603\n",
       "        ...  \n",
       "68          1\n",
       "65          1\n",
       "63          1\n",
       "62          1\n",
       "106         1\n",
       "Name: fecun10, Length: 79, dtype: int64"
      ]
     },
     "execution_count": 33,
     "metadata": {},
     "output_type": "execute_result"
    }
   ],
   "source": [
    "mod_people['fecun10'].value_counts()"
   ]
  },
  {
   "cell_type": "code",
   "execution_count": 76,
   "metadata": {},
   "outputs": [],
   "source": [
    "a=connect_remove[connect_remove['pid2']==68].interpolate()"
   ]
  },
  {
   "cell_type": "code",
   "execution_count": null,
   "metadata": {},
   "outputs": [],
   "source": [
    "a['startdate']=a['startdate'].fillna(a['startdate'].mean()).astype(int)"
   ]
  },
  {
   "cell_type": "code",
   "execution_count": 82,
   "metadata": {},
   "outputs": [
    {
     "data": {
      "text/plain": [
       "False"
      ]
     },
     "execution_count": 82,
     "metadata": {},
     "output_type": "execute_result"
    }
   ],
   "source": [
    "~a['startdate'].isnull().values.any()"
   ]
  },
  {
   "cell_type": "code",
   "execution_count": 40,
   "metadata": {},
   "outputs": [
    {
     "data": {
      "text/plain": [
       "(664306,)"
      ]
     },
     "execution_count": 40,
     "metadata": {},
     "output_type": "execute_result"
    }
   ],
   "source": [
    "mod_people['fecun10'].shape"
   ]
  },
  {
   "cell_type": "code",
   "execution_count": 3,
   "metadata": {},
   "outputs": [],
   "source": [
    "a= np.random.randn(10)"
   ]
  },
  {
   "cell_type": "code",
   "execution_count": 9,
   "metadata": {},
   "outputs": [
    {
     "data": {
      "text/plain": [
       "array([-1.74157102, -0.59390431,  0.08789953])"
      ]
     },
     "execution_count": 9,
     "metadata": {},
     "output_type": "execute_result"
    }
   ],
   "source": [
    "a[-3:]"
   ]
  },
  {
   "cell_type": "code",
   "execution_count": 4,
   "metadata": {},
   "outputs": [
    {
     "data": {
      "text/plain": [
       "array([-0.78265068, -1.71857245,  1.48684196,  0.78057287, -0.77489315,\n",
       "       -1.29037377,  0.48654354, -1.74157102, -0.59390431,  0.08789953])"
      ]
     },
     "execution_count": 4,
     "metadata": {},
     "output_type": "execute_result"
    }
   ],
   "source": [
    "a"
   ]
  },
  {
   "cell_type": "code",
   "execution_count": null,
   "metadata": {},
   "outputs": [],
   "source": []
  }
 ],
 "metadata": {
  "kernelspec": {
   "display_name": "Python 3",
   "language": "python",
   "name": "python3"
  },
  "language_info": {
   "codemirror_mode": {
    "name": "ipython",
    "version": 3
   },
   "file_extension": ".py",
   "mimetype": "text/x-python",
   "name": "python",
   "nbconvert_exporter": "python",
   "pygments_lexer": "ipython3",
   "version": "3.6.9"
  }
 },
 "nbformat": 4,
 "nbformat_minor": 2
}
