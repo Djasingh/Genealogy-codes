{
 "cells": [
  {
   "cell_type": "code",
   "execution_count": 19,
   "metadata": {},
   "outputs": [],
   "source": [
    "from py2neo import Graph\n",
    "graph = Graph(password=\"admin\")"
   ]
  },
  {
   "cell_type": "code",
   "execution_count": null,
   "metadata": {},
   "outputs": [],
   "source": []
  },
  {
   "cell_type": "code",
   "execution_count": 32,
   "metadata": {},
   "outputs": [
    {
     "data": {
      "text/html": [
       "<div>\n",
       "<style scoped>\n",
       "    .dataframe tbody tr th:only-of-type {\n",
       "        vertical-align: middle;\n",
       "    }\n",
       "\n",
       "    .dataframe tbody tr th {\n",
       "        vertical-align: top;\n",
       "    }\n",
       "\n",
       "    .dataframe thead th {\n",
       "        text-align: right;\n",
       "    }\n",
       "</style>\n",
       "<table border=\"1\" class=\"dataframe\">\n",
       "  <thead>\n",
       "    <tr style=\"text-align: right;\">\n",
       "      <th></th>\n",
       "      <th>a.firstname</th>\n",
       "      <th>a.middlename</th>\n",
       "      <th>a.lastname</th>\n",
       "      <th>a.majorArea</th>\n",
       "    </tr>\n",
       "  </thead>\n",
       "  <tbody>\n",
       "    <tr>\n",
       "      <th>0</th>\n",
       "      <td>Donald</td>\n",
       "      <td>O.</td>\n",
       "      <td>Pederson</td>\n",
       "      <td>etree</td>\n",
       "    </tr>\n",
       "    <tr>\n",
       "      <th>1</th>\n",
       "      <td>Shaochun</td>\n",
       "      <td>Simon</td>\n",
       "      <td>Xu</td>\n",
       "      <td>computerscience</td>\n",
       "    </tr>\n",
       "    <tr>\n",
       "      <th>2</th>\n",
       "      <td>Ulrik</td>\n",
       "      <td>None</td>\n",
       "      <td>Brandes</td>\n",
       "      <td>computerscience</td>\n",
       "    </tr>\n",
       "    <tr>\n",
       "      <th>3</th>\n",
       "      <td>Dorothea</td>\n",
       "      <td>None</td>\n",
       "      <td>Wagner</td>\n",
       "      <td>computerscience</td>\n",
       "    </tr>\n",
       "    <tr>\n",
       "      <th>4</th>\n",
       "      <td>Uwe</td>\n",
       "      <td>None</td>\n",
       "      <td>Nagel</td>\n",
       "      <td>computerscience</td>\n",
       "    </tr>\n",
       "    <tr>\n",
       "      <th>5</th>\n",
       "      <td>Damian</td>\n",
       "      <td>None</td>\n",
       "      <td>Dechev</td>\n",
       "      <td>computerscience</td>\n",
       "    </tr>\n",
       "    <tr>\n",
       "      <th>6</th>\n",
       "      <td>Peter</td>\n",
       "      <td>M.</td>\n",
       "      <td>Pirkelbauer</td>\n",
       "      <td>computerscience</td>\n",
       "    </tr>\n",
       "    <tr>\n",
       "      <th>7</th>\n",
       "      <td>David</td>\n",
       "      <td>John</td>\n",
       "      <td>Wheeler</td>\n",
       "      <td>computerscience</td>\n",
       "    </tr>\n",
       "    <tr>\n",
       "      <th>8</th>\n",
       "      <td>John</td>\n",
       "      <td>G.</td>\n",
       "      <td>Truxal</td>\n",
       "      <td>computerscience</td>\n",
       "    </tr>\n",
       "    <tr>\n",
       "      <th>9</th>\n",
       "      <td>Ludwig</td>\n",
       "      <td>None</td>\n",
       "      <td>Braun</td>\n",
       "      <td>computerscience</td>\n",
       "    </tr>\n",
       "  </tbody>\n",
       "</table>\n",
       "</div>"
      ],
      "text/plain": [
       "  a.firstname a.middlename   a.lastname      a.majorArea\n",
       "0      Donald           O.     Pederson            etree\n",
       "1    Shaochun        Simon           Xu  computerscience\n",
       "2       Ulrik         None      Brandes  computerscience\n",
       "3    Dorothea         None       Wagner  computerscience\n",
       "4         Uwe         None        Nagel  computerscience\n",
       "5      Damian         None       Dechev  computerscience\n",
       "6       Peter           M.  Pirkelbauer  computerscience\n",
       "7       David         John      Wheeler  computerscience\n",
       "8        John           G.       Truxal  computerscience\n",
       "9      Ludwig         None        Braun  computerscience"
      ]
     },
     "execution_count": 32,
     "metadata": {},
     "output_type": "execute_result"
    }
   ],
   "source": [
    "graph.run(\"MATCH (a:Researcher) RETURN a.firstname,a.middlename, a.lastname, a.majorArea LIMIT 10\").to_data_frame()"
   ]
  },
  {
   "cell_type": "code",
   "execution_count": null,
   "metadata": {},
   "outputs": [],
   "source": []
  },
  {
   "cell_type": "code",
   "execution_count": null,
   "metadata": {},
   "outputs": [],
   "source": []
  }
 ],
 "metadata": {
  "kernelspec": {
   "display_name": "Python 3",
   "language": "python",
   "name": "python3"
  },
  "language_info": {
   "codemirror_mode": {
    "name": "ipython",
    "version": 3
   },
   "file_extension": ".py",
   "mimetype": "text/x-python",
   "name": "python",
   "nbconvert_exporter": "python",
   "pygments_lexer": "ipython3",
   "version": "3.6.8"
  }
 },
 "nbformat": 4,
 "nbformat_minor": 2
}
