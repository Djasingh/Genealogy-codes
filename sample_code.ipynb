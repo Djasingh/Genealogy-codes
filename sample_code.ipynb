{
 "cells": [
  {
   "cell_type": "code",
   "execution_count": null,
   "metadata": {},
   "outputs": [],
   "source": [
    "# Detecting numbers \n",
    "cnt=0\n",
    "for row in df['OWN_OCCUPIED']:\n",
    "    try:\n",
    "        int(row)\n",
    "        df.loc[cnt, 'OWN_OCCUPIED']=np.nan\n",
    "    except ValueError:\n",
    "        pass\n",
    "    cnt+=1"
   ]
  }
 ],
 "metadata": {
  "kernelspec": {
   "display_name": "Python 3",
   "language": "python",
   "name": "python3"
  },
  "language_info": {
   "codemirror_mode": {
    "name": "ipython",
    "version": 3
   },
   "file_extension": ".py",
   "mimetype": "text/x-python",
   "name": "python",
   "nbconvert_exporter": "python",
   "pygments_lexer": "ipython3",
   "version": "3.6.9"
  }
 },
 "nbformat": 4,
 "nbformat_minor": 2
}
