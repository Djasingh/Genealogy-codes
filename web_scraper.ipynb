{
 "cells": [
  {
   "cell_type": "code",
   "execution_count": 1,
   "metadata": {},
   "outputs": [],
   "source": [
    "from googlesearch import search \n",
    "from bs4 import BeautifulSoup as soup"
   ]
  },
  {
   "cell_type": "code",
   "execution_count": 2,
   "metadata": {},
   "outputs": [
    {
     "name": "stdout",
     "output_type": "stream",
     "text": [
      "https://www.quora.com/What-is-the-relationship-between-Alan-Turing-and-Alonzo-Church-besides-that-one-is-anothers-student\n",
      "https://www.quora.com/Did-Alan-Turing-ever-meet-Alonzo-Church\n",
      "https://www.quora.com/How-do-you-compare-Alan-Turing-and-Alonzo-Church-and-did-Church-get-the-respect-he-deserved-I-read-somewhere-that-they-both-solved-the-same-problem-but-using-different-approaches\n",
      "https://www.quora.com/Is-there-any-indication-that-Turing-knew-of-Alonzo-Churchs-undecidable-proof-before-he-published-his-own\n",
      "https://scientificgems.wordpress.com/2016/06/08/church-and-turing/\n",
      "https://en.wikipedia.org/wiki/Alonzo_Church\n",
      "https://en.wikipedia.org/wiki/Alonzo_Church#Life\n",
      "https://en.wikipedia.org/wiki/Alonzo_Church#Mathematical_work\n",
      "https://en.wikipedia.org/wiki/Alonzo_Church#Students\n",
      "https://en.wikipedia.org/wiki/Alonzo_Church#Books\n"
     ]
    }
   ],
   "source": [
    "query = \"Alan turing And Alonzo church\"\n",
    "\n",
    "try: \n",
    "    res=search(query,  num=10, start=0,stop=10, pause=2)\n",
    "except ImportError:  \n",
    "    print(\"error searching\") \n",
    "for j in res:\n",
    "    print(j) "
   ]
  },
  {
   "cell_type": "code",
   "execution_count": 30,
   "metadata": {},
   "outputs": [],
   "source": [
    "from google import google\n",
    "num_page = 3\n",
    "search_results = google.search(query,num_page)"
   ]
  },
  {
   "cell_type": "code",
   "execution_count": 62,
   "metadata": {},
   "outputs": [
    {
     "name": "stdout",
     "output_type": "stream",
     "text": [
      "1. Wikipedia:Search engine test - Wikipedia\n",
      "https://en.wikipedia.org/wiki/Wikipedia:Search_engine_test\n",
      " \n",
      "2. Wikipedia:Search engine test - Wikipedia\n",
      "https://en.wikipedia.org/wiki/Wikipedia:Search_engine_test#Search_engine_tests\n",
      " \n",
      "3. Wikipedia:Search engine test - Wikipedia\n",
      "https://en.wikipedia.org/wiki/Wikipedia:Search_engine_test#Search_engine_tests_and_Wikipedia_policies\n",
      " \n",
      "4. Wikipedia:Search engine test - Wikipedia\n",
      "https://en.wikipedia.org/wiki/Wikipedia:Search_engine_test#Using_search_engines\n",
      " \n"
     ]
    }
   ],
   "source": [
    "import requests\n",
    "from bs4 import BeautifulSoup\n",
    "\n",
    "def google_scrape(url):\n",
    "    thepage = requests.get(url)\n",
    "    soup = BeautifulSoup(thepage.text, \"html.parser\")\n",
    "    return soup.title.text\n",
    "\n",
    "i = 1\n",
    "query = 'search this'\n",
    "for url in search(query, stop=10):\n",
    "    if 'Wikipedia' in url:\n",
    "        a = google_scrape(url)\n",
    "        print(str(i) + \". \" + a)\n",
    "        print(url)\n",
    "        print (\" \")\n",
    "        i += 1      "
   ]
  },
  {
   "cell_type": "code",
   "execution_count": null,
   "metadata": {},
   "outputs": [],
   "source": []
  },
  {
   "cell_type": "code",
   "execution_count": 50,
   "metadata": {},
   "outputs": [],
   "source": [
    "search_word=\"search term\"\n",
    "encode=urllib.request.quote(search_word)"
   ]
  },
  {
   "cell_type": "code",
   "execution_count": 51,
   "metadata": {},
   "outputs": [
    {
     "data": {
      "text/plain": [
       "'search%20term'"
      ]
     },
     "execution_count": 51,
     "metadata": {},
     "output_type": "execute_result"
    }
   ],
   "source": [
    "encode        "
   ]
  },
  {
   "cell_type": "code",
   "execution_count": 4,
   "metadata": {},
   "outputs": [],
   "source": [
    "import requests"
   ]
  },
  {
   "cell_type": "raw",
   "metadata": {},
   "source": [
    "requests.get"
   ]
  }
 ],
 "metadata": {
  "kernelspec": {
   "display_name": "Python 3",
   "language": "python",
   "name": "python3"
  },
  "language_info": {
   "codemirror_mode": {
    "name": "ipython",
    "version": 3
   },
   "file_extension": ".py",
   "mimetype": "text/x-python",
   "name": "python",
   "nbconvert_exporter": "python",
   "pygments_lexer": "ipython3",
   "version": "3.6.8"
  }
 },
 "nbformat": 4,
 "nbformat_minor": 2
}
