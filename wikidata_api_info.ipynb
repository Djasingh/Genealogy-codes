{
 "cells": [
  {
   "cell_type": "code",
   "execution_count": 2,
   "metadata": {},
   "outputs": [],
   "source": [
    "from wikidata.client import Client\n",
    "import itertools"
   ]
  },
  {
   "cell_type": "code",
   "execution_count": 98,
   "metadata": {},
   "outputs": [],
   "source": [
    "#Q92741, Q7251,Q1239172\n",
    "client = Client()  # doctest: +SKIP\n",
    "entity = client.get('Q1239172', load=True)"
   ]
  },
  {
   "cell_type": "code",
   "execution_count": 70,
   "metadata": {},
   "outputs": [],
   "source": [
    "entity.attributes.get('aliases').get('en')"
   ]
  },
  {
   "cell_type": "code",
   "execution_count": 5,
   "metadata": {},
   "outputs": [],
   "source": [
    "prop=client.get('P106')"
   ]
  },
  {
   "cell_type": "code",
   "execution_count": 45,
   "metadata": {},
   "outputs": [
    {
     "data": {
      "text/plain": [
       "NoneType"
      ]
     },
     "execution_count": 45,
     "metadata": {},
     "output_type": "execute_result"
    }
   ],
   "source": []
  },
  {
   "cell_type": "code",
   "execution_count": 17,
   "metadata": {},
   "outputs": [
    {
     "name": "stdout",
     "output_type": "stream",
     "text": [
      "P1556\n",
      "<class 'str'>\n",
      "P691\n",
      "<class 'str'>\n",
      "P106\n",
      "<class 'wikidata.entity.Entity'>\n",
      "P101\n",
      "<class 'wikidata.entity.Entity'>\n",
      "P185\n",
      "<class 'wikidata.entity.Entity'>\n",
      "P214\n",
      "<class 'str'>\n",
      "P213\n",
      "<class 'str'>\n",
      "P244\n",
      "<class 'str'>\n",
      "P227\n",
      "<class 'str'>\n",
      "P269\n",
      "<class 'str'>\n",
      "P268\n",
      "<class 'str'>\n",
      "P19\n",
      "<class 'wikidata.entity.Entity'>\n",
      "P20\n",
      "<class 'wikidata.entity.Entity'>\n",
      "P27\n",
      "<class 'wikidata.entity.Entity'>\n",
      "P569\n",
      "<class 'datetime.date'>\n",
      "P570\n",
      "<class 'datetime.date'>\n",
      "P549\n",
      "<class 'str'>\n",
      "P31\n",
      "<class 'wikidata.entity.Entity'>\n",
      "P906\n",
      "<class 'str'>\n",
      "P646\n",
      "<class 'str'>\n",
      "P69\n",
      "<class 'wikidata.entity.Entity'>\n",
      "P735\n",
      "<class 'wikidata.entity.Entity'>\n",
      "P108\n",
      "<class 'wikidata.entity.Entity'>\n",
      "P1563\n",
      "<class 'str'>\n",
      "P1006\n",
      "<class 'str'>\n",
      "P1207\n",
      "<class 'str'>\n",
      "P409\n",
      "<class 'str'>\n",
      "P648\n",
      "<class 'str'>\n",
      "P184\n",
      "<class 'wikidata.entity.Entity'>\n",
      "P1315\n",
      "<class 'str'>\n",
      "P2163\n",
      "<class 'str'>\n",
      "P1263\n",
      "<class 'str'>\n",
      "P1417\n",
      "<class 'str'>\n",
      "P463\n",
      "<class 'wikidata.entity.Entity'>\n",
      "P863\n",
      "<class 'str'>\n",
      "P3430\n",
      "<class 'str'>\n",
      "P1559\n",
      "<class 'wikidata.multilingual.MonolingualText'>\n",
      "P802\n",
      "<class 'wikidata.entity.Entity'>\n",
      "P3417\n",
      "<class 'str'>\n",
      "P2732\n",
      "<class 'str'>\n",
      "P2381\n",
      "<class 'str'>\n",
      "P140\n",
      "<class 'wikidata.entity.Entity'>\n",
      "P2456\n",
      "<class 'str'>\n",
      "P3987\n",
      "<class 'str'>\n",
      "P864\n",
      "<class 'str'>\n",
      "P3222\n",
      "<class 'str'>\n",
      "P3219\n",
      "<class 'str'>\n",
      "P734\n",
      "<class 'wikidata.entity.Entity'>\n",
      "P1280\n",
      "<class 'str'>\n",
      "P4823\n",
      "<class 'str'>\n",
      "P119\n",
      "<class 'wikidata.entity.Entity'>\n",
      "P5441\n",
      "<class 'str'>\n",
      "P1412\n",
      "<class 'wikidata.entity.Entity'>\n",
      "P1580\n",
      "<class 'str'>\n",
      "P5731\n",
      "<class 'str'>\n",
      "P5587\n",
      "<class 'str'>\n",
      "P512\n",
      "<class 'wikidata.entity.Entity'>\n",
      "P2924\n",
      "<class 'str'>\n",
      "P21\n",
      "<class 'wikidata.entity.Entity'>\n",
      "P535\n",
      "<class 'str'>\n",
      "P6656\n",
      "<class 'str'>\n",
      "P6886\n",
      "<class 'wikidata.entity.Entity'>\n"
     ]
    }
   ],
   "source": [
    "for key in entity.keys():\n",
    "    print(key.id)\n",
    "    print(type(entity[key]))"
   ]
  },
  {
   "cell_type": "code",
   "execution_count": 5,
   "metadata": {},
   "outputs": [
    {
     "data": {
      "text/plain": [
       "dict_keys(['time', 'timezone', 'before', 'after', 'precision', 'calendarmodel'])"
      ]
     },
     "execution_count": 5,
     "metadata": {},
     "output_type": "execute_result"
    }
   ],
   "source": [
    "entity.data['claims']['P569'][0]['mainsnak']['datavalue']['value'].keys()"
   ]
  },
  {
   "cell_type": "code",
   "execution_count": 14,
   "metadata": {},
   "outputs": [
    {
     "data": {
      "text/plain": [
       "[{'mainsnak': {'snaktype': 'value',\n",
       "   'property': 'P1559',\n",
       "   'datavalue': {'value': {'text': 'Alonzo Church', 'language': 'en'},\n",
       "    'type': 'monolingualtext'},\n",
       "   'datatype': 'monolingualtext'},\n",
       "  'type': 'statement',\n",
       "  'id': 'Q92741$4c38dae0-4eef-ff33-f2a4-5ee9aab03974',\n",
       "  'rank': 'normal',\n",
       "  'references': [{'hash': '288ab581e7d2d02995a26dfa8b091d96e78457fc',\n",
       "    'snaks': {'P143': [{'snaktype': 'value',\n",
       "       'property': 'P143',\n",
       "       'datavalue': {'value': {'entity-type': 'item',\n",
       "         'numeric-id': 206855,\n",
       "         'id': 'Q206855'},\n",
       "        'type': 'wikibase-entityid'},\n",
       "       'datatype': 'wikibase-item'}]},\n",
       "    'snaks-order': ['P143']}]}]"
      ]
     },
     "execution_count": 14,
     "metadata": {},
     "output_type": "execute_result"
    }
   ],
   "source": [
    "entity.data['claims']['P1559']"
   ]
  },
  {
   "cell_type": "code",
   "execution_count": 13,
   "metadata": {},
   "outputs": [
    {
     "name": "stdout",
     "output_type": "stream",
     "text": [
      "zbMATH author ID\n",
      "church.alonzo\n",
      "NKCR AUT ID\n",
      "mzk2006354081\n",
      "occupation\n",
      "Q170790\n",
      "Q4964182\n",
      "Q1622272\n",
      "Q82594\n",
      "field of work\n",
      "Q1166618\n",
      "Q2878974\n",
      "Q395\n",
      "Q8078\n",
      "doctoral student\n",
      "Q23431\n",
      "Q7172598\n",
      "Q5536172\n",
      "Q1239172\n",
      "Q111637\n",
      "Q1174939\n",
      "Q28900\n",
      "Q335148\n",
      "Q357965\n",
      "Q5674941\n",
      "Q332905\n",
      "Q516801\n",
      "Q49823\n",
      "Q441178\n",
      "Q7251\n",
      "Q22696509\n",
      "Q216170\n",
      "Q7052780\n",
      "Q8005704\n",
      "VIAF ID\n",
      "109830754\n",
      "ISNI\n",
      "0000 0001 1003 8502\n",
      "Library of Congress authority ID\n",
      "n83152979\n",
      "GND ID\n",
      "119430223\n",
      "SUDOC authorities ID\n",
      "060369604\n",
      "BnF ID\n",
      "14575590d\n",
      "place of birth\n",
      "Q61\n",
      "place of death\n",
      "Q579848\n",
      "country of citizenship\n",
      "Q30\n",
      "date of birth\n",
      "+1903-06-14T00:00:00Z\n",
      "date of death\n",
      "+1995-08-11T00:00:00Z\n",
      "Mathematics Genealogy Project ID\n",
      "8011\n",
      "instance of\n",
      "Q5\n",
      "SELIBR ID\n",
      "301551\n",
      "Freebase ID\n",
      "/m/0d6m5\n",
      "educated at\n",
      "Q13371\n",
      "+1927-00-00T00:00:00Z\n",
      "+1928-00-00T00:00:00Z\n",
      "Q21578\n",
      "+1920-00-00T00:00:00Z\n",
      "None\n",
      "Q152838\n",
      "+1928-00-00T00:00:00Z\n",
      "None\n",
      "Q214341\n",
      "+1929-00-00T00:00:00Z\n",
      "None\n",
      "given name\n",
      "Q19831791\n",
      "employer\n",
      "Q21578\n",
      "+1929-00-00T00:00:00Z\n",
      "+1967-00-00T00:00:00Z\n",
      "Q174710\n",
      "+1967-00-00T00:00:00Z\n",
      "+1990-00-00T00:00:00Z\n",
      "MacTutor id (biographies)\n",
      "Church\n",
      "NTA ID\n",
      "067508219\n",
      "NUKAT ID\n",
      "n2002019850\n",
      "Libraries Australia ID\n",
      "50043018\n",
      "Open Library ID\n",
      "OL118074A\n",
      "doctoral advisor\n",
      "Q536558\n",
      "NLA ID\n",
      "1522538\n",
      "FAST ID\n",
      "1458233\n",
      "NNDB people ID\n",
      "150/000202541\n",
      "Encyclopædia Britannica Online ID\n",
      "biography/Alonzo-Church\n",
      "member of\n",
      "Q463303\n",
      "Q40358\n",
      "InPhO ID\n",
      "thinker/2811\n",
      "SNAC Ark ID\n",
      "w6320nsm\n",
      "name in native language\n"
     ]
    },
    {
     "ename": "KeyError",
     "evalue": "'time'",
     "output_type": "error",
     "traceback": [
      "\u001b[0;31m---------------------------------------------------------------------------\u001b[0m",
      "\u001b[0;31mKeyError\u001b[0m                                  Traceback (most recent call last)",
      "\u001b[0;32m<ipython-input-13-972d1ee00377>\u001b[0m in \u001b[0;36m<module>\u001b[0;34m\u001b[0m\n\u001b[1;32m     11\u001b[0m                     \u001b[0mprint\u001b[0m\u001b[0;34m(\u001b[0m\u001b[0mb\u001b[0m\u001b[0;34m.\u001b[0m\u001b[0mget\u001b[0m\u001b[0;34m(\u001b[0m\u001b[0;34m'datavalue'\u001b[0m\u001b[0;34m)\u001b[0m\u001b[0;34m.\u001b[0m\u001b[0mget\u001b[0m\u001b[0;34m(\u001b[0m\u001b[0;34m'value'\u001b[0m\u001b[0;34m)\u001b[0m\u001b[0;34m.\u001b[0m\u001b[0mget\u001b[0m\u001b[0;34m(\u001b[0m\u001b[0;34m'time'\u001b[0m\u001b[0;34m)\u001b[0m \u001b[0;32mif\u001b[0m \u001b[0mb\u001b[0m \u001b[0;32mis\u001b[0m \u001b[0;32mnot\u001b[0m \u001b[0;32mNone\u001b[0m \u001b[0;32melse\u001b[0m \u001b[0;32mNone\u001b[0m\u001b[0;34m)\u001b[0m\u001b[0;34m\u001b[0m\u001b[0;34m\u001b[0m\u001b[0m\n\u001b[1;32m     12\u001b[0m         \u001b[0;32melse\u001b[0m\u001b[0;34m:\u001b[0m\u001b[0;34m\u001b[0m\u001b[0;34m\u001b[0m\u001b[0m\n\u001b[0;32m---> 13\u001b[0;31m             \u001b[0mprint\u001b[0m\u001b[0;34m(\u001b[0m\u001b[0ma\u001b[0m\u001b[0;34m[\u001b[0m\u001b[0;34m'mainsnak'\u001b[0m\u001b[0;34m]\u001b[0m\u001b[0;34m[\u001b[0m\u001b[0;34m'datavalue'\u001b[0m\u001b[0;34m]\u001b[0m\u001b[0;34m[\u001b[0m\u001b[0;34m'value'\u001b[0m\u001b[0;34m]\u001b[0m\u001b[0;34m[\u001b[0m\u001b[0;34m'time'\u001b[0m\u001b[0;34m]\u001b[0m\u001b[0;34m)\u001b[0m\u001b[0;34m\u001b[0m\u001b[0;34m\u001b[0m\u001b[0m\n\u001b[0m",
      "\u001b[0;31mKeyError\u001b[0m: 'time'"
     ]
    }
   ],
   "source": [
    "for key in entity.keys():\n",
    "    print(key.label)\n",
    "    for a in entity.data['claims'][key.id]:\n",
    "        if type(a['mainsnak']['datavalue']['value'])==str:\n",
    "            print(a['mainsnak']['datavalue']['value'])  \n",
    "        elif 'id' in a['mainsnak']['datavalue']['value'].keys():\n",
    "            print(a['mainsnak']['datavalue']['value']['id'])\n",
    "            print(client.get())\n",
    "            if a.get('qualifiers') is not None:\n",
    "                for a,b in itertools.zip_longest(a.get('qualifiers').get('P580',\"\"),a.get('qualifiers').get('P582',\"\")):\n",
    "                    print(a.get('datavalue').get('value').get('time') if a is not None else None)\n",
    "                    print(b.get('datavalue').get('value').get('time') if b is not None else None)\n",
    "        elif 'time' in a['mainsnak']['datavalue']['value'].keys():\n",
    "            print(a['mainsnak']['datavalue']['value']['time'])  "
   ]
  },
  {
   "cell_type": "code",
   "execution_count": 23,
   "metadata": {},
   "outputs": [],
   "source": [
    "props=['P27','P106','P101','P184','P185','P1026','P802','P1066','P800','P856','P2456','P2381','P864',\n",
    "       'P108','P69','P512','P166','P463']"
   ]
  },
  {
   "cell_type": "code",
   "execution_count": 49,
   "metadata": {},
   "outputs": [
    {
     "data": {
      "text/plain": [
       "dict_keys(['pageid', 'ns', 'title', 'lastrevid', 'modified', 'type', 'id', 'labels', 'descriptions', 'aliases', 'claims', 'sitelinks'])"
      ]
     },
     "execution_count": 49,
     "metadata": {},
     "output_type": "execute_result"
    }
   ],
   "source": [
    "entity.attributes.keys()"
   ]
  },
  {
   "cell_type": "code",
   "execution_count": 86,
   "metadata": {},
   "outputs": [
    {
     "data": {
      "text/plain": [
       "'Q92741'"
      ]
     },
     "execution_count": 86,
     "metadata": {},
     "output_type": "execute_result"
    }
   ],
   "source": [
    "entity.attributes.get('id')"
   ]
  },
  {
   "cell_type": "code",
   "execution_count": null,
   "metadata": {},
   "outputs": [],
   "source": []
  },
  {
   "cell_type": "code",
   "execution_count": 72,
   "metadata": {},
   "outputs": [],
   "source": [
    "pid2v={}\n",
    "eid2v={}\n",
    "eid2alt={}"
   ]
  },
  {
   "cell_type": "code",
   "execution_count": 99,
   "metadata": {},
   "outputs": [],
   "source": [
    "props=['P27','P106','P101','P184','P185','P1026','P802','P1066','P800','P856','P2456','P2381','P864',\n",
    "       'P108','P69','P512','P166','P463']\n",
    "value=['id','time','text']\n",
    "keys=(key for key in entity.keys() if key.id in props)\n",
    "dct = {}\n",
    "for key in keys:\n",
    "    if key.id not in pid2v:\n",
    "        pid2v[key.id]=str(key.label)\n",
    "    tmp=[]\n",
    "    for claim in entity.data['claims'][key.id]:\n",
    "        temp1={}\n",
    "        if type(claim['mainsnak']['datavalue']['value'])==str:\n",
    "            tmp.append(claim['mainsnak']['datavalue']['value'])\n",
    "        else:\n",
    "            avail=[i for i in value if i in claim['mainsnak']['datavalue']['value'].keys()]\n",
    "            if avail[0]=='id':\n",
    "                if claim.get('qualifiers') is not None:\n",
    "                    temp={}\n",
    "                    for quals in claim['qualifiers']:\n",
    "                        lbl=str(client.get(quals).label)\n",
    "                        if quals not in pid2v:\n",
    "                            pid2v[quals]=lbl\n",
    "                        for qual in claim['qualifiers'][quals]:\n",
    "                            if type(qual['datavalue']['value'])==str:\n",
    "                                temp[lbl]=qual['datavalue']['value']\n",
    "                            else:\n",
    "                                avail_q=[i for i in value if i in qual['datavalue']['value'].keys()]\n",
    "                                if avail_q[0]=='id':\n",
    "                                    ent=qual['datavalue']['value'][avail_q[0]]\n",
    "                                    ent_lbl=client.get(qual['datavalue']['value'][avail_q[0]])\n",
    "                                    if ent not in eid2v:\n",
    "                                        eid2v[ent]=str(ent_lbl.label)\n",
    "                                    if ent not in eid2alt:\n",
    "                                        eid2alt[ent]=ent_lbl.attributes.get('aliases').get('en')\n",
    "                                    temp[lbl]=str(ent_lbl.label)\n",
    "                                else:\n",
    "                                    temp[lbl]=qual['datavalue']['value'][avail_q[0]]\n",
    "                    ent1=claim['mainsnak']['datavalue']['value'].get(avail[0])\n",
    "                    ent1_lbl=str(client.get(claim['mainsnak']['datavalue']['value'].get(avail[0])).label)\n",
    "                    if ent1 not in eid2v:\n",
    "                        eid2v[ent1]=ent1_lbl\n",
    "                    temp1[ent1_lbl]=temp\n",
    "                if bool(temp1):\n",
    "                    tmp.append(temp1)\n",
    "                else:\n",
    "                    ent_lbl=client.get(claim['mainsnak']['datavalue']['value'].get(avail[0]))\n",
    "                    ent=claim['mainsnak']['datavalue']['value'].get(avail[0])\n",
    "                    if ent not in eid2v:\n",
    "                        eid2v[ent]=str(ent_lbl.label)\n",
    "                    if ent not in eid2alt:\n",
    "                        eid2alt[ent]=ent_lbl.attributes.get('aliases').get('en')\n",
    "                    tmp.append(str(ent_lbl.label))\n",
    "            else:\n",
    "                tmp.append(claim['mainsnak']['datavalue']['value'].get(avail[0]))    \n",
    "        dct[str(key.label)]=tmp"
   ]
  },
  {
   "cell_type": "code",
   "execution_count": 100,
   "metadata": {},
   "outputs": [
    {
     "data": {
      "text/plain": [
       "{'occupation': ['mathematician', 'university teacher', 'computer scientist'],\n",
       " 'country of citizenship': ['United States of America'],\n",
       " 'field of work': ['number theory'],\n",
       " 'educated at': ['Princeton University'],\n",
       " 'member of': ['American Mathematical Society',\n",
       "  'American Academy of Arts and Sciences'],\n",
       " 'doctoral advisor': ['Alonzo Church'],\n",
       " 'DBLP ID': ['d/MartinDDavis'],\n",
       " 'ACM Digital Library author ID': ['81100601584'],\n",
       " 'award received': [{'Herbrand Award': {'point in time': '+2005-01-01T00:00:00Z'}},\n",
       "  'Fellow of the American Mathematical Society',\n",
       "  'Fellow of the American Academy of Arts and Sciences',\n",
       "  {'Leroy P. Steele Prize': {'point in time': '+1975-01-01T00:00:00Z'}}],\n",
       " 'employer': ['New York University']}"
      ]
     },
     "execution_count": 100,
     "metadata": {},
     "output_type": "execute_result"
    }
   ],
   "source": [
    "dct"
   ]
  },
  {
   "cell_type": "code",
   "execution_count": null,
   "metadata": {},
   "outputs": [],
   "source": [
    "props=[]\n",
    "value=['id','time','text']\n",
    "qual=['P580','P582','P585']\n",
    "for key in entity.keys():\n",
    "    print(key.label)\n",
    "    for a in entity.data['claims'][key.id]:\n",
    "        if type(a['mainsnak']['datavalue']['value'])==str:\n",
    "            print(a['mainsnak']['datavalue']['value'])  \n",
    "        else:\n",
    "            avail=[i for i in value if i in a['mainsnak']['datavalue']['value'].keys()]\n",
    "            print(a['mainsnak']['datavalue']['value'].get(avail[0]))\n",
    "            if avail[0]=='id':\n",
    "                print(client.get(a['mainsnak']['datavalue']['value'].get(avail[0])).label)\n",
    "                if a.get('qualifiers') is not None:\n",
    "                    for q in a['qualifiers']:\n",
    "                        print(client.get(q).label)\n",
    "                        for b in a['qualifiers'][q]:\n",
    "                            avail_q=[i for i in value if i in b['datavalue']['value'].keys()]\n",
    "                            if avail_q[0]=='id':\n",
    "                                print(client.get(b['datavalue']['value'][avail_q[0]]).label)\n",
    "                            else:\n",
    "                                print(b['datavalue']['value'][avail_q[0]])\n",
    "            else:\n",
    "                print(a['mainsnak']['datavalue']['value'].get(avail[0]))"
   ]
  },
  {
   "cell_type": "code",
   "execution_count": null,
   "metadata": {},
   "outputs": [],
   "source": []
  },
  {
   "cell_type": "code",
   "execution_count": null,
   "metadata": {},
   "outputs": [],
   "source": []
  },
  {
   "cell_type": "code",
   "execution_count": null,
   "metadata": {},
   "outputs": [],
   "source": []
  },
  {
   "cell_type": "code",
   "execution_count": null,
   "metadata": {},
   "outputs": [],
   "source": []
  },
  {
   "cell_type": "code",
   "execution_count": null,
   "metadata": {},
   "outputs": [],
   "source": []
  }
 ],
 "metadata": {
  "kernelspec": {
   "display_name": "Python 3",
   "language": "python",
   "name": "python3"
  },
  "language_info": {
   "codemirror_mode": {
    "name": "ipython",
    "version": 3
   },
   "file_extension": ".py",
   "mimetype": "text/x-python",
   "name": "python",
   "nbconvert_exporter": "python",
   "pygments_lexer": "ipython3",
   "version": "3.6.8"
  }
 },
 "nbformat": 4,
 "nbformat_minor": 2
}
